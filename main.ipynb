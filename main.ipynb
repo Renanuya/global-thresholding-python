{
 "cells": [
  {
   "cell_type": "code",
   "execution_count": null,
   "id": "50bcfd70",
   "metadata": {},
   "outputs": [],
   "source": [
    "import numpy as np"
   ]
  },
  {
   "cell_type": "code",
   "execution_count": null,
   "id": "ff147f62",
   "metadata": {},
   "outputs": [],
   "source": [
    "histogram = {\n",
    "    100: 12, 101: 18, 102: 32, 103: 48, 104: 52, 105: 65, 106: 55, 107: 42,\n",
    "    108: 32, 109: 16, 110: 10, 140: 5, 141: 18, 142: 25, 143: 32, 144: 40,\n",
    "    145: 65, 146: 43, 147: 32, 148: 20, 149: 10, 150: 4\n",
    "}"
   ]
  },
  {
   "cell_type": "code",
   "execution_count": null,
   "id": "d703c30a",
   "metadata": {},
   "outputs": [],
   "source": [
    "intensities = np.array(list(histogram.keys()))\n",
    "pixel_counts = np.array(list(histogram.values()))"
   ]
  },
  {
   "cell_type": "code",
   "execution_count": null,
   "id": "6d24c64a",
   "metadata": {},
   "outputs": [],
   "source": [
    "T0 = 100\n",
    "threshold = 1"
   ]
  },
  {
   "cell_type": "code",
   "execution_count": null,
   "id": "98720180",
   "metadata": {},
   "outputs": [],
   "source": [
    "while True:\n",
    "\n",
    "    G1 = intensities[intensities > T0]\n",
    "    G2 = intensities[intensities <= T0]\n",
    "\n",
    "    m1 = np.sum(G1 * pixel_counts[intensities > T0]) / np.sum(pixel_counts[intensities > T0])\n",
    "    m2 = np.sum(G2 * pixel_counts[intensities <= T0]) / np.sum(pixel_counts[intensities <= T0])\n",
    "\n",
    "    T1 = (m1 + m2) / 2\n",
    "\n",
    "    if abs(T1 - T0) < threshold:\n",
    "        break\n",
    "\n",
    "    T0 = T1"
   ]
  },
  {
   "cell_type": "code",
   "execution_count": null,
   "id": "8d6ee0b8",
   "metadata": {},
   "outputs": [],
   "source": [
    "optimum_threshold = T1\n",
    "print(f\"Optimum Threshold Value: {optimum_threshold}\")"
   ]
  }
 ],
 "metadata": {
  "jupytext": {
   "cell_metadata_filter": "-all",
   "main_language": "python",
   "notebook_metadata_filter": "-all"
  }
 },
 "nbformat": 4,
 "nbformat_minor": 5
}
